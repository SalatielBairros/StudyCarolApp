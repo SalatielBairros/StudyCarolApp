{
 "cells": [
  {
   "cell_type": "markdown",
   "metadata": {},
   "source": [
    "# Teste lib PyCarol"
   ]
  },
  {
   "cell_type": "markdown",
   "metadata": {},
   "source": [
    "## Preparando o ambiente"
   ]
  },
  {
   "cell_type": "code",
   "execution_count": 15,
   "metadata": {},
   "outputs": [],
   "source": [
    "from pycarol import Staging, Carol, BQ, CarolHandler, Connectors\n",
    "from pycarol.bigquery import TokenManager\n",
    "from dotenv import load_dotenv\n",
    "import pandas as pd\n",
    "import logging\n",
    "import os\n",
    "import json"
   ]
  },
  {
   "cell_type": "code",
   "execution_count": 2,
   "metadata": {},
   "outputs": [
    {
     "data": {
      "text/plain": [
       "True"
      ]
     },
     "execution_count": 2,
     "metadata": {},
     "output_type": "execute_result"
    }
   ],
   "source": [
    "load_dotenv(\".env\")"
   ]
  },
  {
   "cell_type": "code",
   "execution_count": 3,
   "metadata": {},
   "outputs": [],
   "source": [
    "carol = Carol()"
   ]
  },
  {
   "cell_type": "code",
   "execution_count": 4,
   "metadata": {},
   "outputs": [],
   "source": [
    "logger = logging.getLogger(__name__)\n",
    "logger.setLevel(logging.DEBUG)\n",
    "carolHandler = CarolHandler(Carol())\n",
    "carolHandler.setLevel(logging.INFO)\n",
    "logger.addHandler(carolHandler)\n",
    "if(carolHandler.task_id is not None):\n",
    "    os.environ['LONGTASKID'] = carolHandler.task_id"
   ]
  },
  {
   "cell_type": "code",
   "execution_count": 12,
   "metadata": {},
   "outputs": [
    {
     "name": "stderr",
     "output_type": "stream",
     "text": [
      "WARNING:root:this is a warning message\n"
     ]
    }
   ],
   "source": [
    "logging.warning(\"this is a warning message\")"
   ]
  },
  {
   "cell_type": "code",
   "execution_count": 9,
   "metadata": {},
   "outputs": [],
   "source": [
    "pd.set_option('future.no_silent_downcasting', False)"
   ]
  },
  {
   "cell_type": "markdown",
   "metadata": {},
   "source": [
    "### Buscar Schema\n",
    "\n",
    "Retorna o schema da tabela junto com seus respectivos metadados"
   ]
  },
  {
   "cell_type": "code",
   "execution_count": 18,
   "metadata": {},
   "outputs": [],
   "source": [
    "staging = Staging(Carol())\n",
    "schema = staging.get_schema(staging_name=\"unique_hlpartnumberslot\",\n",
    "    connector_name=\"study_connector\")\n",
    "jSchema = json.dumps(schema)"
   ]
  },
  {
   "cell_type": "code",
   "execution_count": 20,
   "metadata": {},
   "outputs": [],
   "source": [
    "with open('stagging_unique_hlpartnumberslot_schema.json', 'w+', encoding='utf-8') as file:\n",
    "    file.write(jSchema)"
   ]
  },
  {
   "cell_type": "markdown",
   "metadata": {},
   "source": [
    "### Parque Stagging\n",
    "\n",
    "Buscando os dados dos arquivos parquet em stagging. Está com algumas coisas desatualizadas envolvendo o Pandas. Esse método apresentou erros dependendo da chamada. Parece ter um problema na forma de usar o pandas. Além disso, não deixa possibilidade de usar outras libs, como polars."
   ]
  },
  {
   "cell_type": "code",
   "execution_count": 11,
   "metadata": {},
   "outputs": [
    {
     "name": "stderr",
     "output_type": "stream",
     "text": [
      "  0%|          | 67/45626 [03:33<40:15:26,  3.18s/it]\n",
      "c:\\Python312\\Lib\\site-packages\\pycarol\\utils\\miscellaneous.py:57: FutureWarning: Downcasting object dtype arrays on .fillna, .ffill, .bfill is deprecated and will change in a future version. Call result.infer_objects(copy=False) instead. To opt-in to the future behavior, set `pd.set_option('future.no_silent_downcasting', True)`\n",
      "  d['mdmDeleted'] = d['mdmDeleted'].fillna(False)\n"
     ]
    },
    {
     "data": {
      "text/html": [
       "<div>\n",
       "<style scoped>\n",
       "    .dataframe tbody tr th:only-of-type {\n",
       "        vertical-align: middle;\n",
       "    }\n",
       "\n",
       "    .dataframe tbody tr th {\n",
       "        vertical-align: top;\n",
       "    }\n",
       "\n",
       "    .dataframe thead th {\n",
       "        text-align: right;\n",
       "    }\n",
       "</style>\n",
       "<table border=\"1\" class=\"dataframe\">\n",
       "  <thead>\n",
       "    <tr style=\"text-align: right;\">\n",
       "      <th></th>\n",
       "      <th>idProductLine</th>\n",
       "      <th>packageId</th>\n",
       "    </tr>\n",
       "  </thead>\n",
       "  <tbody>\n",
       "    <tr>\n",
       "      <th>0</th>\n",
       "      <td>XX</td>\n",
       "      <td>1617889565933</td>\n",
       "    </tr>\n",
       "    <tr>\n",
       "      <th>1</th>\n",
       "      <td>02</td>\n",
       "      <td>1617889565539</td>\n",
       "    </tr>\n",
       "    <tr>\n",
       "      <th>2</th>\n",
       "      <td>02</td>\n",
       "      <td>1617889714473</td>\n",
       "    </tr>\n",
       "    <tr>\n",
       "      <th>3</th>\n",
       "      <td>XX</td>\n",
       "      <td>1617890466045</td>\n",
       "    </tr>\n",
       "    <tr>\n",
       "      <th>4</th>\n",
       "      <td>XX</td>\n",
       "      <td>1617890532805</td>\n",
       "    </tr>\n",
       "    <tr>\n",
       "      <th>...</th>\n",
       "      <td>...</td>\n",
       "      <td>...</td>\n",
       "    </tr>\n",
       "    <tr>\n",
       "      <th>95</th>\n",
       "      <td>01</td>\n",
       "      <td>1617965584631</td>\n",
       "    </tr>\n",
       "    <tr>\n",
       "      <th>96</th>\n",
       "      <td>XX</td>\n",
       "      <td>1617966491236</td>\n",
       "    </tr>\n",
       "    <tr>\n",
       "      <th>97</th>\n",
       "      <td>01</td>\n",
       "      <td>1617966788236</td>\n",
       "    </tr>\n",
       "    <tr>\n",
       "      <th>98</th>\n",
       "      <td>XX</td>\n",
       "      <td>1617966788236</td>\n",
       "    </tr>\n",
       "    <tr>\n",
       "      <th>99</th>\n",
       "      <td>XX</td>\n",
       "      <td>1617967029573</td>\n",
       "    </tr>\n",
       "  </tbody>\n",
       "</table>\n",
       "<p>100 rows × 2 columns</p>\n",
       "</div>"
      ],
      "text/plain": [
       "   idProductLine      packageId\n",
       "0             XX  1617889565933\n",
       "1             02  1617889565539\n",
       "2             02  1617889714473\n",
       "3             XX  1617890466045\n",
       "4             XX  1617890532805\n",
       "..           ...            ...\n",
       "95            01  1617965584631\n",
       "96            XX  1617966491236\n",
       "97            01  1617966788236\n",
       "98            XX  1617966788236\n",
       "99            XX  1617967029573\n",
       "\n",
       "[100 rows x 2 columns]"
      ]
     },
     "execution_count": 11,
     "metadata": {},
     "output_type": "execute_result"
    }
   ],
   "source": [
    "df = staging.fetch_parquet(\n",
    "    staging_name=\"users\",\n",
    "    connector_name=\"lscloud\",\n",
    "    backend='pandas',    \n",
    "    max_hits=100,\n",
    "    return_metadata=False,\n",
    "    columns=['idProductLine', 'packageId']\n",
    ")\n",
    "df"
   ]
  },
  {
   "cell_type": "markdown",
   "metadata": {},
   "source": [
    "### Chamando direto o BigQuery"
   ]
  },
  {
   "cell_type": "code",
   "execution_count": 26,
   "metadata": {},
   "outputs": [
    {
     "data": {
      "text/html": [
       "<div>\n",
       "<style scoped>\n",
       "    .dataframe tbody tr th:only-of-type {\n",
       "        vertical-align: middle;\n",
       "    }\n",
       "\n",
       "    .dataframe tbody tr th {\n",
       "        vertical-align: top;\n",
       "    }\n",
       "\n",
       "    .dataframe thead th {\n",
       "        text-align: right;\n",
       "    }\n",
       "</style>\n",
       "<table border=\"1\" class=\"dataframe\">\n",
       "  <thead>\n",
       "    <tr style=\"text-align: right;\">\n",
       "      <th></th>\n",
       "      <th>partnumberid</th>\n",
       "      <th>slotid</th>\n",
       "    </tr>\n",
       "  </thead>\n",
       "  <tbody>\n",
       "    <tr>\n",
       "      <th>0</th>\n",
       "      <td>0111022000-2</td>\n",
       "      <td>4120</td>\n",
       "    </tr>\n",
       "    <tr>\n",
       "      <th>1</th>\n",
       "      <td>0113301170</td>\n",
       "      <td>4088</td>\n",
       "    </tr>\n",
       "    <tr>\n",
       "      <th>2</th>\n",
       "      <td>0118501008-6</td>\n",
       "      <td>0408</td>\n",
       "    </tr>\n",
       "    <tr>\n",
       "      <th>3</th>\n",
       "      <td>103600042-7</td>\n",
       "      <td>4003</td>\n",
       "    </tr>\n",
       "    <tr>\n",
       "      <th>4</th>\n",
       "      <td>103600054-0</td>\n",
       "      <td>4000</td>\n",
       "    </tr>\n",
       "    <tr>\n",
       "      <th>...</th>\n",
       "      <td>...</td>\n",
       "      <td>...</td>\n",
       "    </tr>\n",
       "    <tr>\n",
       "      <th>7016</th>\n",
       "      <td>CML.002499</td>\n",
       "      <td>3137</td>\n",
       "    </tr>\n",
       "    <tr>\n",
       "      <th>7017</th>\n",
       "      <td>CMV.002537</td>\n",
       "      <td>4185</td>\n",
       "    </tr>\n",
       "    <tr>\n",
       "      <th>7018</th>\n",
       "      <td>CMV.003499</td>\n",
       "      <td>3137</td>\n",
       "    </tr>\n",
       "    <tr>\n",
       "      <th>7019</th>\n",
       "      <td>CONSL.253</td>\n",
       "      <td>3516</td>\n",
       "    </tr>\n",
       "    <tr>\n",
       "      <th>7020</th>\n",
       "      <td>CONSV.030</td>\n",
       "      <td>3502</td>\n",
       "    </tr>\n",
       "  </tbody>\n",
       "</table>\n",
       "<p>7021 rows × 2 columns</p>\n",
       "</div>"
      ],
      "text/plain": [
       "      partnumberid slotid\n",
       "0     0111022000-2   4120\n",
       "1       0113301170   4088\n",
       "2     0118501008-6   0408\n",
       "3      103600042-7   4003\n",
       "4      103600054-0   4000\n",
       "...            ...    ...\n",
       "7016    CML.002499   3137\n",
       "7017    CMV.002537   4185\n",
       "7018    CMV.003499   3137\n",
       "7019     CONSL.253   3516\n",
       "7020     CONSV.030   3502\n",
       "\n",
       "[7021 rows x 2 columns]"
      ]
     },
     "execution_count": 26,
     "metadata": {},
     "output_type": "execute_result"
    }
   ],
   "source": [
    "bq = BQ(Carol())\n",
    "query_str = \"\"\"select trim(partnumberid) as partnumberid, slotid      \n",
    "    from stg_hlcloud_hlpartnumberslot\n",
    "    qualify ROW_NUMBER() OVER (PARTITION BY partnumberid, slotid ORDER BY mdmCounterForEntity DESC, mdmLastUpdated DESC) = 1  \"\"\"\n",
    "results = bq.query(query_str)\n",
    "results"
   ]
  },
  {
   "cell_type": "markdown",
   "metadata": {},
   "source": [
    "### Token manager\n",
    "É possível gerar um service account para conectar diretamente ao BQ."
   ]
  },
  {
   "cell_type": "code",
   "execution_count": null,
   "metadata": {},
   "outputs": [],
   "source": [
    "tm = TokenManager(Carol())\n",
    "service_account = tm.get_token().service_account\n",
    "service_account"
   ]
  },
  {
   "cell_type": "code",
   "execution_count": 7,
   "metadata": {},
   "outputs": [
    {
     "data": {
      "text/plain": [
       "{'partnumberid': '0111022000-2', 'slotid': '4120'}"
      ]
     },
     "execution_count": 7,
     "metadata": {},
     "output_type": "execute_result"
    }
   ],
   "source": [
    "unique_hlpartnumberslot = results.to_dict(orient=\"records\")\n",
    "unique_hlpartnumberslot[0]"
   ]
  },
  {
   "cell_type": "code",
   "execution_count": 31,
   "metadata": {},
   "outputs": [
    {
     "name": "stdout",
     "output_type": "stream",
     "text": [
      "This is the connector id: 447f4ae9d5594e66996e492d98388033\n"
     ]
    }
   ],
   "source": [
    "connector_name = \"study_connector\"\n",
    "connector_id = Connectors(carol).create(name='study_connector', label=\"study_connector_label\", group_name=\"StudyConnectorGroup\")\n",
    "print(f\"This is the connector id: {connector_id}\")"
   ]
  },
  {
   "cell_type": "code",
   "execution_count": 10,
   "metadata": {},
   "outputs": [],
   "source": [
    "new_connector_id = '447f4ae9d5594e66996e492d98388033'\n",
    "staging_name='unique_hlpartnumberslot'\n",
    "staging = Staging(carol)"
   ]
  },
  {
   "cell_type": "code",
   "execution_count": 41,
   "metadata": {},
   "outputs": [
    {
     "name": "stderr",
     "output_type": "stream",
     "text": [
      "C:\\Users\\salatiel.costa\\AppData\\Local\\Temp\\ipykernel_68956\\2216663496.py:3: DeprecationWarning: `export_data` is deprecated and has no action.\n",
      "  staging.create_schema(staging_name=staging_name, data = unique_hlpartnumberslot[0], connector_id=connector_id,\n"
     ]
    }
   ],
   "source": [
    "staging.create_schema(staging_name=staging_name, data = unique_hlpartnumberslot[0], connector_id=new_connector_id,                      \n",
    "                        connector_name=connector_name, crosswalk_name= staging_name ,crosswalk_list=['partnumberid'])"
   ]
  },
  {
   "cell_type": "code",
   "execution_count": 11,
   "metadata": {},
   "outputs": [
    {
     "name": "stdout",
     "output_type": "stream",
     "text": [
      "7021/7021 sent\r"
     ]
    }
   ],
   "source": [
    "staging.send_data(staging_name = staging_name, data = unique_hlpartnumberslot, step_size = 10,\n",
    "                 connector_id=new_connector_id, print_stats = True)"
   ]
  },
  {
   "cell_type": "code",
   "execution_count": null,
   "metadata": {},
   "outputs": [],
   "source": [
    "bq = BQ(Carol())\n",
    "query_str = \"select * from unique_hlpartnumberslot\"\n",
    "results = bq.query(query_str)\n",
    "results"
   ]
  }
 ],
 "metadata": {
  "kernelspec": {
   "display_name": "Python 3",
   "language": "python",
   "name": "python3"
  },
  "language_info": {
   "codemirror_mode": {
    "name": "ipython",
    "version": 3
   },
   "file_extension": ".py",
   "mimetype": "text/x-python",
   "name": "python",
   "nbconvert_exporter": "python",
   "pygments_lexer": "ipython3",
   "version": "3.12.1"
  }
 },
 "nbformat": 4,
 "nbformat_minor": 2
}
